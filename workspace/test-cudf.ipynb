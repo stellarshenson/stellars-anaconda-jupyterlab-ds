{
 "cells": [
  {
   "cell_type": "code",
   "execution_count": null,
   "id": "47c0b27f-c6e6-4606-a43d-2fdbb9377625",
   "metadata": {
    "tags": []
   },
   "outputs": [],
   "source": [
    "# enable cudf\n",
    "%load_ext cudf.pandas # this extension further replaces pandas with cudf"
   ]
  },
  {
   "cell_type": "code",
   "execution_count": null,
   "id": "667d2093-cf3b-4d89-b117-c867a8daa62a",
   "metadata": {
    "tags": []
   },
   "outputs": [],
   "source": [
    "# import cudf as pd # another way of using cudf\n",
    "import pandas as pd # pandas is going to be replaced thanks to the extension\n",
    "import requests\n",
    "from io import StringIO"
   ]
  },
  {
   "cell_type": "code",
   "execution_count": null,
   "id": "54509634-539e-4c80-95f9-826655f03bb2",
   "metadata": {
    "tags": []
   },
   "outputs": [],
   "source": [
    "# show which implementation is used\n",
    "print(pd)"
   ]
  },
  {
   "cell_type": "code",
   "execution_count": null,
   "id": "ee8297b9-e673-4567-9374-6bddc81de7e1",
   "metadata": {
    "tags": []
   },
   "outputs": [],
   "source": [
    "%%time\n",
    "\n",
    "url = \"https://github.com/plotly/datasets/raw/master/tips.csv\"\n",
    "content = requests.get(url).content.decode(\"utf-8\")\n",
    "\n",
    "tips_df = pd.read_csv(StringIO(content))\n",
    "tips_df[\"tip_percentage\"] = tips_df[\"tip\"] / tips_df[\"total_bill\"] * 100\n",
    "\n",
    "# display average tip by dining party size\n",
    "print(tips_df.groupby(\"size\").tip_percentage.mean())"
   ]
  }
 ],
 "metadata": {
  "kernelspec": {
   "display_name": "Python 3 (ipykernel)",
   "language": "python",
   "name": "python3"
  },
  "language_info": {
   "codemirror_mode": {
    "name": "ipython",
    "version": 3
   },
   "file_extension": ".py",
   "mimetype": "text/x-python",
   "name": "python",
   "nbconvert_exporter": "python",
   "pygments_lexer": "ipython3",
   "version": "3.10.13"
  }
 },
 "nbformat": 4,
 "nbformat_minor": 5
}
