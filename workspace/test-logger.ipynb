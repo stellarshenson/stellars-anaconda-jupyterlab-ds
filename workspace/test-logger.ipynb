{
 "cells": [
  {
   "cell_type": "code",
   "execution_count": 10,
   "id": "d61237fe-6468-46a5-8435-c8c6056d9642",
   "metadata": {
    "execution": {
     "iopub.execute_input": "2024-01-18T08:31:42.678770Z",
     "iopub.status.busy": "2024-01-18T08:31:42.677670Z",
     "iopub.status.idle": "2024-01-18T08:31:42.683148Z",
     "shell.execute_reply": "2024-01-18T08:31:42.682085Z",
     "shell.execute_reply.started": "2024-01-18T08:31:42.678726Z"
    }
   },
   "outputs": [],
   "source": [
    "from logger import *\n",
    "import time"
   ]
  },
  {
   "cell_type": "code",
   "execution_count": 5,
   "id": "e618c866-7d94-4fd8-a85f-84bb91072229",
   "metadata": {
    "execution": {
     "iopub.execute_input": "2024-01-18T08:29:06.964614Z",
     "iopub.status.busy": "2024-01-18T08:29:06.964326Z",
     "iopub.status.idle": "2024-01-18T08:29:06.971878Z",
     "shell.execute_reply": "2024-01-18T08:29:06.968968Z",
     "shell.execute_reply.started": "2024-01-18T08:29:06.964591Z"
    }
   },
   "outputs": [],
   "source": [
    "logger.setLevel('DEBUG')"
   ]
  },
  {
   "cell_type": "code",
   "execution_count": 9,
   "id": "6d412ecc-47aa-419d-8879-6e479027bdd6",
   "metadata": {
    "execution": {
     "iopub.execute_input": "2024-01-18T08:30:03.248314Z",
     "iopub.status.busy": "2024-01-18T08:30:03.247983Z",
     "iopub.status.idle": "2024-01-18T08:30:03.263990Z",
     "shell.execute_reply": "2024-01-18T08:30:03.262535Z",
     "shell.execute_reply.started": "2024-01-18T08:30:03.248286Z"
    }
   },
   "outputs": [
    {
     "name": "stdout",
     "output_type": "stream",
     "text": [
      "2024-01-18 08:30:03 - \u001b[36mDEBUG\u001b[0m - \u001b[34m<module>\u001b[0m - example debug\n",
      "2024-01-18 08:30:03 - \u001b[32mINFO \u001b[0m - \u001b[34m<module>\u001b[0m - example info\n",
      "2024-01-18 08:30:03 - \u001b[33mWARNING\u001b[0m - \u001b[34m<module>\u001b[0m - example warning\n",
      "2024-01-18 08:30:03 - \u001b[31mERROR\u001b[0m - \u001b[34m<module>\u001b[0m - example error\n",
      "2024-01-18 08:30:03 - \u001b[31m\u001b[47m\u001b[1mCRITICAL\u001b[0m - \u001b[34m<module>\u001b[0m - example critical error\n",
      "2024-01-18 08:30:03 - \u001b[32mINFO \u001b[0m - \u001b[34mtest_function\u001b[0m - example function logging\n"
     ]
    }
   ],
   "source": [
    "# example messages\n",
    "logger.debug('example debug')\n",
    "logger.info('example info')\n",
    "logger.warning('example warning')\n",
    "logger.error('example error')\n",
    "logger.critical('example critical error')\n",
    "\n",
    "def test_function():\n",
    "    logger.info('example function logging')\n",
    "\n",
    "test_function()"
   ]
  },
  {
   "cell_type": "code",
   "execution_count": 15,
   "id": "eccb75bb-b0f0-443b-ae3b-abde1b0a5639",
   "metadata": {
    "execution": {
     "iopub.execute_input": "2024-01-18T08:37:00.216392Z",
     "iopub.status.busy": "2024-01-18T08:37:00.215332Z",
     "iopub.status.idle": "2024-01-18T08:37:10.278146Z",
     "shell.execute_reply": "2024-01-18T08:37:10.276541Z",
     "shell.execute_reply.started": "2024-01-18T08:37:00.216314Z"
    }
   },
   "outputs": [
    {
     "name": "stdout",
     "output_type": "stream",
     "text": [
      "sample progress bar |████████████████████████████████████████| 100.0% \n",
      "2024-01-18 08:37:10 - \u001b[32mINFO \u001b[0m - \u001b[34m<module>\u001b[0m - done\n"
     ]
    }
   ],
   "source": [
    "# example progressbar\n",
    "for i in range(100):\n",
    "    progressBar(i, 100-1, length=40, prefix='sample progress bar')\n",
    "    time.sleep(0.1)\n",
    "\n",
    "logger.info('done')"
   ]
  }
 ],
 "metadata": {
  "kernelspec": {
   "display_name": "Python 3 (ipykernel)",
   "language": "python",
   "name": "python3"
  },
  "language_info": {
   "codemirror_mode": {
    "name": "ipython",
    "version": 3
   },
   "file_extension": ".py",
   "mimetype": "text/x-python",
   "name": "python",
   "nbconvert_exporter": "python",
   "pygments_lexer": "ipython3",
   "version": "3.10.13"
  }
 },
 "nbformat": 4,
 "nbformat_minor": 5
}
