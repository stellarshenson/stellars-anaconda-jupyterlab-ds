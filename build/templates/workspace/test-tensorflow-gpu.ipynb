{
 "cells": [
  {
   "cell_type": "code",
   "execution_count": 1,
   "id": "bc118aef-152c-4530-9895-2c34c4710c69",
   "metadata": {
    "execution": {
     "iopub.execute_input": "2024-01-17T20:40:09.803986Z",
     "iopub.status.busy": "2024-01-17T20:40:09.803692Z",
     "iopub.status.idle": "2024-01-17T20:40:09.811713Z",
     "shell.execute_reply": "2024-01-17T20:40:09.810430Z",
     "shell.execute_reply.started": "2024-01-17T20:40:09.803961Z"
    }
   },
   "outputs": [],
   "source": [
    "import os\n",
    "os.environ['TF_CPP_MIN_LOG_LEVEL'] = '3' "
   ]
  },
  {
   "cell_type": "code",
   "execution_count": 2,
   "id": "8c38a888-7e14-42d4-8da1-8df991de8d52",
   "metadata": {
    "execution": {
     "iopub.execute_input": "2024-01-17T20:40:09.813197Z",
     "iopub.status.busy": "2024-01-17T20:40:09.813013Z",
     "iopub.status.idle": "2024-01-17T20:40:11.354101Z",
     "shell.execute_reply": "2024-01-17T20:40:11.353134Z",
     "shell.execute_reply.started": "2024-01-17T20:40:09.813180Z"
    }
   },
   "outputs": [],
   "source": [
    "import tensorflow as tf"
   ]
  },
  {
   "cell_type": "code",
   "execution_count": 3,
   "id": "ca97e504-5d59-4513-b2bb-bfa383c5fb7b",
   "metadata": {
    "execution": {
     "iopub.execute_input": "2024-01-17T20:40:11.355163Z",
     "iopub.status.busy": "2024-01-17T20:40:11.354892Z",
     "iopub.status.idle": "2024-01-17T20:40:11.362793Z",
     "shell.execute_reply": "2024-01-17T20:40:11.361099Z",
     "shell.execute_reply.started": "2024-01-17T20:40:11.355143Z"
    }
   },
   "outputs": [
    {
     "name": "stdout",
     "output_type": "stream",
     "text": [
      "Tensorflow built with CUDA support: True\n",
      "Is GPU available: False\n",
      "List of physical devices: [PhysicalDevice(name='/physical_device:CPU:0', device_type='CPU')]\n",
      "List of logical devices: [LogicalDevice(name='/device:CPU:0', device_type='CPU')]\n",
      "GPU available: []\n",
      "GPU: \n"
     ]
    }
   ],
   "source": [
    "# check if GPU is used\n",
    "print(f'Tensorflow built with CUDA support: {tf.test.is_built_with_cuda()}')\n",
    "print(f'Is GPU available: {len(tf.config.list_physical_devices(\"GPU\")) > 0}')\n",
    "print(f'List of physical devices: {tf.config.list_physical_devices()}' )\n",
    "print(f'List of logical devices: {tf.config.list_logical_devices()}')\n",
    "print(f'GPU available: {tf.config.list_physical_devices(\"GPU\")}')\n",
    "print(f'GPU: {tf.test.gpu_device_name()}')"
   ]
  }
 ],
 "metadata": {
  "kernelspec": {
   "display_name": "Python 3 (ipykernel)",
   "language": "python",
   "name": "python3"
  },
  "language_info": {
   "codemirror_mode": {
    "name": "ipython",
    "version": 3
   },
   "file_extension": ".py",
   "mimetype": "text/x-python",
   "name": "python",
   "nbconvert_exporter": "python",
   "pygments_lexer": "ipython3",
   "version": "3.10.13"
  }
 },
 "nbformat": 4,
 "nbformat_minor": 5
}
